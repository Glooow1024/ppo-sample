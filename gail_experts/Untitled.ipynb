{
 "cells": [
  {
   "cell_type": "code",
   "execution_count": 13,
   "metadata": {},
   "outputs": [
    {
     "name": "stdout",
     "output_type": "stream",
     "text": [
      "(53, 1000, 17)\n",
      "(53, 1000, 6)\n",
      "(53, 1000)\n",
      "(53,)\n",
      "--------------------\n",
      "<class 'numpy.ndarray'>\n",
      "(53, 1000, 17)\n",
      "(53, 1000, 6)\n",
      "(53, 1000)\n",
      "(53,)\n",
      "[1000 1000 1000 1000 1000 1000 1000 1000  894 1000 1000 1000  870 1000\n",
      " 1000 1000 1000 1000 1000 1000 1000 1000 1000 1000  548 1000 1000 1000\n",
      " 1000 1000 1000  995 1000 1000 1000 1000 1000  765  148 1000 1000 1000\n",
      "  718 1000 1000  687 1000 1000 1000 1000 1000 1000 1000]\n",
      "---------- value ----------\n",
      "states  tensor([ 9.7591e-01,  4.9660e-01, -1.7497e-02, -7.4942e-01,  8.7715e-03,\n",
      "        -2.6524e-01,  1.3913e-01,  6.6671e-01,  1.5276e+00,  6.6244e-01,\n",
      "        -8.0999e+00, -2.8552e+00, -1.0000e+01, -1.0000e+01, -1.0000e+01,\n",
      "         3.0397e-01, -1.0000e+01])\n",
      "actions  tensor([ 0.4441, -1.2433, -2.8770, -0.7248,  1.4835, -1.8718])\n",
      "rewards  tensor(2.3810)\n"
     ]
    }
   ],
   "source": [
    "# 查看 h5 文件内容\n",
    "\n",
    "import argparse\n",
    "import os\n",
    "import sys\n",
    "\n",
    "import h5py\n",
    "import numpy as np\n",
    "import torch\n",
    "\n",
    "\n",
    "h5_file = 'trajs_walker.h5'\n",
    "\n",
    "with h5py.File(h5_file, 'r') as f:\n",
    "    dataset_size = f['obs_B_T_Do'].shape[0]  # full dataset size\n",
    "\n",
    "    print(f['obs_B_T_Do'].shape)\n",
    "    print(f['a_B_T_Da'].shape)\n",
    "    print(f['r_B_T'].shape)\n",
    "    print(f['len_B'].shape)\n",
    "    print('-'*20)\n",
    "    \n",
    "    states = f['obs_B_T_Do'][:dataset_size, ...][...]\n",
    "    actions = f['a_B_T_Da'][:dataset_size, ...][...]\n",
    "    rewards = f['r_B_T'][:dataset_size, ...][...]\n",
    "    lens = f['len_B'][:dataset_size, ...][...]\n",
    "\n",
    "    print(type(states))\n",
    "    print(states.shape)\n",
    "    print(actions.shape)\n",
    "    print(rewards.shape)\n",
    "    print(lens.shape)\n",
    "    print(lens)\n",
    "    \n",
    "    states = torch.from_numpy(states).float()\n",
    "    actions = torch.from_numpy(actions).float()\n",
    "    rewards = torch.from_numpy(rewards).float()\n",
    "    lens = torch.from_numpy(lens).long()\n",
    "    \n",
    "    i = 0\n",
    "    j = 80\n",
    "    print('-'*10+' value '+'-'*10)\n",
    "    print('states ',states[i][j])\n",
    "    print('actions ',actions[i][j])\n",
    "    print('rewards ',rewards[i][j])\n",
    "\n",
    "data = {\n",
    "    'states': states,\n",
    "    'actions': actions,\n",
    "    'rewards': rewards,\n",
    "    'lengths': lens\n",
    "}\n"
   ]
  },
  {
   "cell_type": "code",
   "execution_count": null,
   "metadata": {},
   "outputs": [],
   "source": []
  }
 ],
 "metadata": {
  "kernelspec": {
   "display_name": "Python 3",
   "language": "python",
   "name": "python3"
  },
  "language_info": {
   "codemirror_mode": {
    "name": "ipython",
    "version": 3
   },
   "file_extension": ".py",
   "mimetype": "text/x-python",
   "name": "python",
   "nbconvert_exporter": "python",
   "pygments_lexer": "ipython3",
   "version": "3.6.5"
  }
 },
 "nbformat": 4,
 "nbformat_minor": 2
}
